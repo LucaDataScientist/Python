{
 "cells": [
  {
   "cell_type": "code",
   "execution_count": 25,
   "metadata": {},
   "outputs": [
    {
     "data": {
      "text/plain": [
       "['Hello', 'World']"
      ]
     },
     "execution_count": 25,
     "metadata": {},
     "output_type": "execute_result"
    }
   ],
   "source": [
    "#1. Ecrire une fonction hascap(s) qui renvoie tout les mots de la chaîne s commençant par une majuscule.\n",
    "\n",
    "def hascap(lettre, texte):\n",
    "    s = texte.split()\n",
    "    l = []\n",
    "    \n",
    "    for i in s:\n",
    "        if ord(i[0]) >= 65 and ord(i[0]) <= 90:\n",
    "            l.append(i) \n",
    "    return l\n",
    "        \n",
    "texte = ('Hello the World')\n",
    "hascap('s', texte)"
   ]
  },
  {
   "cell_type": "code",
   "execution_count": 73,
   "metadata": {},
   "outputs": [
    {
     "name": "stdout",
     "output_type": "stream",
     "text": [
      "Le prix est de 54 euros\n"
     ]
    }
   ],
   "source": [
    "#2. Proposer une fonction inflation(s) qui va doubler la valeur de tout les nombres dans la chaine s. \n",
    "# Exemple : « Le prix est de 27 euros » devient « Le prix est de 54 euros ».\n",
    "\n",
    "def inflation(s):\n",
    "    liste_mots = s.split()\n",
    "    for indice,mot in enumerate(liste_mots):\n",
    "        if mot.isdecimal():\n",
    "            liste_mots[indice] = str(int(mot)*2)\n",
    "    phrase = \" \".join(liste_mots)\n",
    "\n",
    "    return print(phrase)\n",
    "        \n",
    "inflation('Le prix est de 27 euros')\n",
    "\n",
    "\n",
    "#nouvellePhrase = inflation('Le prix est de 27 euros')\n",
    "#print(nouvellePhrase)"
   ]
  },
  {
   "cell_type": "code",
   "execution_count": 49,
   "metadata": {},
   "outputs": [
    {
     "name": "stdout",
     "output_type": "stream",
     "text": [
      "Toto\n",
      "Toto\n",
      "None\n"
     ]
    }
   ],
   "source": [
    "def printToto():\n",
    "    print(\"Toto\")\n",
    "\n",
    "printToto()\n",
    "print(printToto())"
   ]
  },
  {
   "cell_type": "code",
   "execution_count": 90,
   "metadata": {},
   "outputs": [
    {
     "data": {
      "text/plain": [
       "['Le premier prix est de 27',\n",
       " 'euros et le deuxième prix',\n",
       " 'est de 54 euros et le troisième']"
      ]
     },
     "execution_count": 90,
     "metadata": {},
     "output_type": "execute_result"
    }
   ],
   "source": [
    "#3. Proposer une fonction ligne qui à partir d’une longue chaîne s (>100 caractères) renvoie une liste de chaîne de caractères contenant\n",
    "# chacun 24 caractères maximum et terminant par un espace.\n",
    "\n",
    "def cdc(s):\n",
    "    s = s.split(\" \")\n",
    "    \n",
    "    liste=[]\n",
    "    l = \"\"\n",
    "    \n",
    "    for m in s:\n",
    "        if (len(l) + len(m))<24:\n",
    "            l+=m+\" \"\n",
    "        else:\n",
    "            l+=m\n",
    "            liste.append(l)\n",
    "            l =''\n",
    "    return liste\n",
    "\n",
    "cdc('Le premier prix est de 27 euros et le deuxième prix est de 54 euros et le troisième prix est de 100 euros')"
   ]
  },
  {
   "cell_type": "code",
   "execution_count": 1,
   "metadata": {},
   "outputs": [
    {
     "data": {
      "text/plain": [
       "['2', '-6.50']"
      ]
     },
     "execution_count": 1,
     "metadata": {},
     "output_type": "execute_result"
    }
   ],
   "source": [
    "#4. Proposer un programme qui renvoie la liste de tout les nombres (y compris décimaux et négatifs) d’une chaîne de caractères.\n",
    "# A tester sur la chaîne : « Les 2 maquereaux valent 6.50 euros ».\n",
    "\n",
    "def liste_nbre(s):\n",
    "    import re\n",
    "    \n",
    "    pattern = r'-?\\d+\\.?\\d*'\n",
    "    s = re.findall(pattern, s)\n",
    "    return s\n",
    "\n",
    "liste_nbre(\"Les 2 maquereaux valent -6.50 euros \")"
   ]
  },
  {
   "cell_type": "code",
   "execution_count": 8,
   "metadata": {},
   "outputs": [
    {
     "name": "stdout",
     "output_type": "stream",
     "text": [
      "L'evolution sur 7,5 jours est de 7,83 point\n"
     ]
    }
   ],
   "source": [
    "#5. Proposer une fonction arrondi(s) qui dans la chaîne s troncature tout les nombre décimaux. On autorise les nombres négatifs.\n",
    "\n",
    "from re import *\n",
    "\n",
    "def tronc(s):\n",
    "    motif = r\"(-?)((0-9)+)(,.)?(0-9)*\"\n",
    "    return sub(motif, r\"\\1\\2\", a)\n",
    "a = \"L'evolution sur 7,5 jours est de 7,83 point\"\n",
    "print(tronc(a))"
   ]
  },
  {
   "cell_type": "code",
   "execution_count": 14,
   "metadata": {},
   "outputs": [
    {
     "name": "stdout",
     "output_type": "stream",
     "text": [
      "['-2.5', '3']\n"
     ]
    },
    {
     "data": {
      "text/plain": [
       "\"L'action en bourse est actuellement à -2% de croissance quotidienne. L'évolution hebdomadiare est de 3%\""
      ]
     },
     "execution_count": 14,
     "metadata": {},
     "output_type": "execute_result"
    }
   ],
   "source": [
    "#5\n",
    "\n",
    "from re import sub, finditer \n",
    "\n",
    "def arrondis(text):\n",
    "    motif='-?[0-9]+[.,]?[0-9]*'\n",
    "\n",
    "    liste=[ mot.group()  for mot in finditer(motif, text)]\n",
    "    print(liste)\n",
    "    for i in liste:\n",
    "        if i in text:\n",
    "            text=text.replace(i,str(int(float(i))))\n",
    "\n",
    "    return text\n",
    "\n",
    "text = \"L'action en bourse est actuellement à -2.5% de croissance quotidienne. L'évolution hebdomadiare est de 3%\"\n",
    "arrondis(text)"
   ]
  }
 ],
 "metadata": {
  "kernelspec": {
   "display_name": "Python 3",
   "language": "python",
   "name": "python3"
  },
  "language_info": {
   "codemirror_mode": {
    "name": "ipython",
    "version": 3
   },
   "file_extension": ".py",
   "mimetype": "text/x-python",
   "name": "python",
   "nbconvert_exporter": "python",
   "pygments_lexer": "ipython3",
   "version": "3.7.6"
  }
 },
 "nbformat": 4,
 "nbformat_minor": 4
}
