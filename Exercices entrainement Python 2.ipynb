{
 "cells": [
  {
   "cell_type": "code",
   "execution_count": 10,
   "metadata": {
    "scrolled": true
   },
   "outputs": [
    {
     "name": "stdout",
     "output_type": "stream",
     "text": [
      "Somme totale :  21\n"
     ]
    }
   ],
   "source": [
    "#1. Calculer la somme des éléments d’une liste\n",
    "\n",
    "L = [1, 2, 3, 4, 5, 6 ] \n",
    "\n",
    "somme = 0 \n",
    "for i in range(len(L)) : \n",
    "  somme += L[i] \n",
    " \n",
    "print(\"Somme totale : \" , somme)"
   ]
  },
  {
   "cell_type": "code",
   "execution_count": 49,
   "metadata": {},
   "outputs": [
    {
     "name": "stdout",
     "output_type": "stream",
     "text": [
      "Voici la liste de nombres pairs [2, 4, 6, 8, 10]\n",
      "Voici la liste de nombres impairs [1, 3, 5, 7, 9]\n"
     ]
    }
   ],
   "source": [
    "#2. Répartir les nombres pairs et impairs dans deux listes\n",
    "\n",
    "l = [1,2,3,4,5,6,7,8,9,10]\n",
    "\n",
    "lpair = list()\n",
    "limpair = list()\n",
    "\n",
    "for i in l:\n",
    "    if i % 2 is 0:\n",
    "        lpair.append(i)\n",
    "    else:\n",
    "        limpair.append(i)\n",
    "\n",
    "print(\"Voici la liste de nombres pairs {0}\".format(lpair))\n",
    "print(\"Voici la liste de nombres impairs {0}\".format(limpair))"
   ]
  },
  {
   "cell_type": "code",
   "execution_count": 147,
   "metadata": {
    "scrolled": true
   },
   "outputs": [
    {
     "name": "stdout",
     "output_type": "stream",
     "text": [
      "indice: 0 , occurences:2\n",
      "indice: 1 , occurences:3\n",
      "indice: 2 , occurences:2\n",
      "indice: 3 , occurences:4\n",
      "indice: 5 , occurences:3\n",
      "indice: 7 , occurences:2\n",
      "indice: 8 , occurences:2\n",
      "indice: 9 , occurences:2\n"
     ]
    }
   ],
   "source": [
    "#3. Compter les occurrences de chaque nombre dans une liste\n",
    "\n",
    "liste1=[1,1,2,3,7,9,8,3,8,9,3,2,1,7,5,5,3,0,5,0]\n",
    "\n",
    "for m in set(liste1):\n",
    "    count=0\n",
    "    for i in liste1:\n",
    "        if m==i:\n",
    "            count+=1\n",
    "    if count>0:\n",
    "        print(f'indice: {m} , occurences:{count}')"
   ]
  },
  {
   "cell_type": "code",
   "execution_count": 11,
   "metadata": {},
   "outputs": [
    {
     "name": "stdout",
     "output_type": "stream",
     "text": [
      "Chiffre 0 apparaît 5 fois\n",
      "Chiffre 4 apparaît 2 fois\n",
      "Chiffre 5 apparaît 3 fois\n",
      "Chiffre 8 apparaît 1 fois\n"
     ]
    }
   ],
   "source": [
    "#3. Compter les occurrences de chaque nombre dans une liste\n",
    "\n",
    "L = [ 0, 5, 8, 0, 5, 4, 4, 0, 0, 5, 0 ] \n",
    " \n",
    "comptage = [0] * 10 \n",
    " \n",
    "for v in L : \n",
    " comptage[v] += 1 \n",
    " \n",
    "for v in range(10) : \n",
    " if comptage[v] > 0 : \n",
    "   print(\"Chiffre {0} apparaît {1} fois\".format(v,comptage[v])) "
   ]
  },
  {
   "cell_type": "code",
   "execution_count": 146,
   "metadata": {},
   "outputs": [
    {
     "name": "stdout",
     "output_type": "stream",
     "text": [
      "X X X X X X X X X X X X X X X X X X X X \n",
      " X X X X X X X X X X X X X X X X X X X X\n",
      "X X X X X X X X X X X X X X X X X X X X \n",
      " X X X X X X X X X X X X X X X X X X X X\n",
      "X X X X X X X X X X X X X X X X X X X X \n",
      " X X X X X X X X X X X X X X X X X X X X\n",
      "X X X X X X X X X X X X X X X X X X X X \n",
      " X X X X X X X X X X X X X X X X X X X X\n",
      "X X X X X X X X X X X X X X X X X X X X \n",
      " X X X X X X X X X X X X X X X X X X X X\n"
     ]
    }
   ],
   "source": [
    "#4. Faire apparaître une texture de grillage\n",
    "\n",
    "for i in range(10):\n",
    "    for m in range(40):\n",
    "        if (i+m)%2==0:\n",
    "            print('X', end='')\n",
    "        else:\n",
    "            print(' ', end='')\n",
    "    print('')"
   ]
  },
  {
   "cell_type": "code",
   "execution_count": 7,
   "metadata": {},
   "outputs": [
    {
     "name": "stdout",
     "output_type": "stream",
     "text": [
      "Entrez les trois coefficients a, b, c1,2,1\n",
      "['1', '2', '1']\n",
      "-1.0\n"
     ]
    }
   ],
   "source": [
    "#5. Calculer les racines d’un polynôme du second degré\n",
    "\n",
    "from math import sqrt\n",
    "\n",
    "coef = input('Entrez les trois coefficients a, b, c'). split(',')\n",
    "print(coef)\n",
    "\n",
    "coef[0] = float(coef[0])\n",
    "coef[1] = float(coef[1])\n",
    "coef[2] = float(coef[2])\n",
    "\n",
    "det = coef[1]**2-4*(coef[0]*coef[2])\n",
    "if det > 0:\n",
    "    coef1 = (-coef[1]+sqrt(det))/2*(coef[0])\n",
    "    coef2 = (-coef[1]-sqrt(det))/2*(coef[0])\n",
    "    print(coef1, coef2)\n",
    "    \n",
    "elif det == 0:\n",
    "    coef3 = (-coef[1]/2*(coef[0]))\n",
    "    print(coef3)\n",
    "\n",
    "else:\n",
    "    print(\"Il n'y a pas de solution\")"
   ]
  },
  {
   "cell_type": "code",
   "execution_count": 19,
   "metadata": {},
   "outputs": [
    {
     "name": "stdout",
     "output_type": "stream",
     "text": [
      "[1, 2, 3, 5, 7, 11, 13, 17, 19, 23, 29, 31, 37, 41, 43, 47, 53, 59, 61, 67, 71, 73, 79, 83, 89, 97]\n"
     ]
    }
   ],
   "source": [
    "#6. Trouver tous les nombres premiers jusqu’à 100\n",
    "\n",
    "NP=[]\n",
    "for i in range(1,101):\n",
    "    test=True\n",
    "    for j in range(2,i):\n",
    "        if i%j==0:\n",
    "            test=False\n",
    "            break\n",
    "    if test==True: \n",
    "        NP.append(i)\n",
    "\n",
    "print(NP)"
   ]
  },
  {
   "cell_type": "code",
   "execution_count": 63,
   "metadata": {},
   "outputs": [
    {
     "name": "stdout",
     "output_type": "stream",
     "text": [
      "1\n",
      "5\n",
      "Erreur\n"
     ]
    }
   ],
   "source": [
    "#7. Vérifier si une liste est triée\n",
    "\n",
    "liste = [1, 5, 3, 19]\n",
    "\n",
    "for i in liste[:len(liste)-1]:\n",
    "    print(i)\n",
    "    if i<liste[liste.index(i)+1]:\n",
    "        continue\n",
    "    else:\n",
    "        print('Erreur')\n",
    "        break"
   ]
  },
  {
   "cell_type": "code",
   "execution_count": 64,
   "metadata": {},
   "outputs": [
    {
     "name": "stdout",
     "output_type": "stream",
     "text": [
      "0 dans le bon ordre\n",
      "1 dans le bon ordre\n",
      "2 dans le bon ordre\n",
      "3 dans le mauvais ordre\n",
      "4 dans le bon ordre\n",
      "5 dans le bon ordre\n"
     ]
    }
   ],
   "source": [
    "#7. Vérifier si une liste est triée\n",
    "\n",
    "L = [1, 5, 11, 19, 8, 50, 77]\n",
    "\n",
    "for i in range(len(L)-1):\n",
    "    if L[i] <= L[i+1]:\n",
    "        print(i, \"dans le bon ordre\")\n",
    "    else:\n",
    "        print(i, \"dans le mauvais ordre\")"
   ]
  },
  {
   "cell_type": "code",
   "execution_count": 3,
   "metadata": {},
   "outputs": [
    {
     "name": "stdout",
     "output_type": "stream",
     "text": [
      "[7, 0, 1, 2, 3, 4, 5, 6]\n",
      "[6, 7, 0, 1, 2, 3, 4, 5]\n",
      "[5, 6, 7, 0, 1, 2, 3, 4]\n",
      "[4, 5, 6, 7, 0, 1, 2, 3]\n",
      "[3, 4, 5, 6, 7, 0, 1, 2]\n",
      "[2, 3, 4, 5, 6, 7, 0, 1]\n",
      "[1, 2, 3, 4, 5, 6, 7, 0]\n",
      "[0, 1, 2, 3, 4, 5, 6, 7]\n"
     ]
    }
   ],
   "source": [
    "#8. Décaler une liste\n",
    "\n",
    "liste = [0,1,2,3,4,5,6,7]\n",
    "\n",
    "for i in range(len(liste)):\n",
    "    liste = ([liste[-1]] + liste[:-1])\n",
    "    print(liste)"
   ]
  },
  {
   "cell_type": "code",
   "execution_count": 7,
   "metadata": {
    "scrolled": true
   },
   "outputs": [
    {
     "name": "stdout",
     "output_type": "stream",
     "text": [
      "   1 15 18 55 60 65 77 80 85 93 99\n",
      "  5 > < < < < < < < < < <\n",
      " 15 > = < < < < < < < < <\n",
      " 20 > > > < < < < < < < <\n",
      " 77 > > > > > > = < < < <\n",
      " 98 > > > > > > > > > > <\n"
     ]
    }
   ],
   "source": [
    "#9. Construire un tableau de comparaison\n",
    "\n",
    "L1 = [ 5,15,20,77,98] \n",
    "L2 = [ 1,15, 18,55,60,65,77,80,85,93,99] \n",
    " \n",
    "print(\" \",end='') \n",
    "for v2 in L2 : \n",
    " print(\"{0:3}\".format(v2), end = '') \n",
    "print() \n",
    " \n",
    "for v1 in L1 : \n",
    " print(\"{0:3}\".format(v1),end='') \n",
    " \n",
    " for v2 in L2 : \n",
    "   if v1 < v2  : print(\" <\",end='') \n",
    "   if v1 == v2 : print(\" =\",end='') \n",
    "   if v1 > v2  : print(\" >\",end='') \n",
    " print() "
   ]
  },
  {
   "cell_type": "code",
   "execution_count": 6,
   "metadata": {},
   "outputs": [
    {
     "name": "stdout",
     "output_type": "stream",
     "text": [
      "9 j\n",
      "10 j\n",
      "[0, 1, 5, 7, 17, 20, 22, 25, 30, 53, 58, 71, 75, 80, 89, 98, 99]\n"
     ]
    }
   ],
   "source": [
    "#10. Fusionner deux listes triées\n",
    "\n",
    "L1 = [ 1, 17, 22, 53, 75, 89] \n",
    "L2 = [ 0, 5, 7, 20, 25, 30, 58, 71, 80, 98, 99] \n",
    " \n",
    "R = [] \n",
    "i = 0 \n",
    "j = 0 \n",
    "nb1 = len(L1) \n",
    "nb2 = len(L2) \n",
    " \n",
    "while i<nb1 and j<nb2 : #il reste des éléments dans les 2 listes \n",
    "   if L1[i] < L2[j] :  # on traite l’élément de L1 et on avance \n",
    "       R.append(L1[i]) \n",
    "       i += 1 \n",
    "   else :              # on traite l’élément de L2 et on avance \n",
    "       R.append(L2[j]) \n",
    "       j += 1 \n",
    "        \n",
    "while i < nb1 :   # on traite les éléments restants dans L1 \n",
    "   print(i,\"i\")\n",
    "   R.append(L1[i]) \n",
    "   i += 1 \n",
    " \n",
    "while j < nb2 :   # on traite les éléments restants dans L2 \n",
    "   print(j,\"j\")\n",
    "   R.append(L2[j]) \n",
    "   j += 1 \n",
    "    \n",
    "print(R)"
   ]
  },
  {
   "cell_type": "code",
   "execution_count": null,
   "metadata": {},
   "outputs": [],
   "source": []
  }
 ],
 "metadata": {
  "kernelspec": {
   "display_name": "Python 3",
   "language": "python",
   "name": "python3"
  },
  "language_info": {
   "codemirror_mode": {
    "name": "ipython",
    "version": 3
   },
   "file_extension": ".py",
   "mimetype": "text/x-python",
   "name": "python",
   "nbconvert_exporter": "python",
   "pygments_lexer": "ipython3",
   "version": "3.7.6"
  }
 },
 "nbformat": 4,
 "nbformat_minor": 4
}
