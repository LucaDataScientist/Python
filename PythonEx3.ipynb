{
 "cells": [
  {
   "cell_type": "code",
   "execution_count": 1,
   "metadata": {},
   "outputs": [
    {
     "name": "stdin",
     "output_type": "stream",
     "text": [
      "valeur rayon 9\n",
      "valeur hauteur 12\n",
      "valeur volume 21\n"
     ]
    },
    {
     "name": "stdout",
     "output_type": "stream",
     "text": [
      "1017.876019763093\n"
     ]
    }
   ],
   "source": [
    "from math import *\n",
    "rayon= int (input(\"valeur rayon\"))\n",
    "hauteur= int (input(\"valeur hauteur\"))\n",
    "volume= pi*rayon**2*hauteur/3\n",
    "print (volume)"
   ]
  },
  {
   "cell_type": "code",
   "execution_count": 15,
   "metadata": {},
   "outputs": [
    {
     "name": "stdout",
     "output_type": "stream",
     "text": [
      "1010\n"
     ]
    }
   ],
   "source": [
    "x=10\n",
    "x=str(x)\n",
    "y=\"2\"\n",
    "print(x+y)"
   ]
  },
  {
   "cell_type": "code",
   "execution_count": null,
   "metadata": {},
   "outputs": [],
   "source": []
  },
  {
   "cell_type": "code",
   "execution_count": 6,
   "metadata": {},
   "outputs": [
    {
     "name": "stdin",
     "output_type": "stream",
     "text": [
      "valeur rayon 3\n",
      "valeur hauteur 9\n"
     ]
    },
    {
     "name": "stdout",
     "output_type": "stream",
     "text": [
      "84.82300164692441\n"
     ]
    }
   ],
   "source": [
    "from math import *\n",
    "rayon= int (input (\"valeur rayon\"))\n",
    "hauteur = int (input (\"valeur hauteur\"))\n",
    "volume = pi*rayon**2*hauteur/3\n",
    "print (volume)"
   ]
  }
 ],
 "metadata": {
  "kernelspec": {
   "display_name": "Python 3",
   "language": "python",
   "name": "python3"
  },
  "language_info": {
   "codemirror_mode": {
    "name": "ipython",
    "version": 3
   },
   "file_extension": ".py",
   "mimetype": "text/x-python",
   "name": "python",
   "nbconvert_exporter": "python",
   "pygments_lexer": "ipython3",
   "version": "3.7.6"
  }
 },
 "nbformat": 4,
 "nbformat_minor": 4
}
