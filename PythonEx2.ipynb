{
 "cells": [
  {
   "cell_type": "code",
   "execution_count": null,
   "metadata": {},
   "outputs": [],
   "source": []
  },
  {
   "cell_type": "code",
   "execution_count": 1,
   "metadata": {},
   "outputs": [
    {
     "name": "stdout",
     "output_type": "stream",
     "text": [
      "[1, 2, 3, 4, 5, 7, 8, 9]\n"
     ]
    }
   ],
   "source": [
    "liste_1=[1,7,3,1,5,7,1]\n",
    "liste_2=[8,5,9,4,3,2,1]\n",
    "liste_3=liste_1+liste_2\n",
    "print(list(set(liste_3)))"
   ]
  },
  {
   "cell_type": "code",
   "execution_count": null,
   "metadata": {},
   "outputs": [],
   "source": []
  },
  {
   "cell_type": "code",
   "execution_count": 2,
   "metadata": {},
   "outputs": [
    {
     "name": "stdin",
     "output_type": "stream",
     "text": [
      "Taper la longueur du coté 1 :  3\n",
      "Taper la longueur du coté 2 :  4\n",
      "Taper la longueur de l'hypoténuse :  5\n"
     ]
    },
    {
     "name": "stdout",
     "output_type": "stream",
     "text": [
      "Triangle rectangle\n"
     ]
    }
   ],
   "source": [
    "cote_1= int(input(\"Taper la longueur du coté 1 : \"))\n",
    "cote_2= int(input(\"Taper la longueur du coté 2 : \"))\n",
    "hypoténuse= int(input(\"Taper la longueur de l'hypoténuse : \"))\n",
    "\n",
    "if hypoténuse**2 == (cote_1**2 + cote_2**2):\n",
    "    print(\"Triangle rectangle\")\n",
    "else :\n",
    "    print (\"Se n'est pas un triangle rectangle\")"
   ]
  },
  {
   "cell_type": "code",
   "execution_count": null,
   "metadata": {},
   "outputs": [],
   "source": []
  },
  {
   "cell_type": "code",
   "execution_count": 3,
   "metadata": {},
   "outputs": [
    {
     "name": "stdin",
     "output_type": "stream",
     "text": [
      "Entrez un nombre:  3790420\n"
     ]
    },
    {
     "name": "stdout",
     "output_type": "stream",
     "text": [
      "3790420 est Paire\n"
     ]
    }
   ],
   "source": [
    "n= int(input(\"Entrez un nombre: \"))\n",
    "if (n%2)== 0:\n",
    "    print(\"{0} est Paire\".format(n))\n",
    "else:\n",
    "    print(\"{0} est Impaire\".format(n))"
   ]
  },
  {
   "cell_type": "code",
   "execution_count": null,
   "metadata": {},
   "outputs": [],
   "source": []
  },
  {
   "cell_type": "code",
   "execution_count": 4,
   "metadata": {},
   "outputs": [
    {
     "name": "stdin",
     "output_type": "stream",
     "text": [
      "Prix_HT 10\n"
     ]
    },
    {
     "name": "stdout",
     "output_type": "stream",
     "text": [
      "10\n",
      "Prix_TTC\n"
     ]
    },
    {
     "name": "stdin",
     "output_type": "stream",
     "text": [
      "Prix_HT 0\n"
     ]
    }
   ],
   "source": [
    "while True:\n",
    " Prix_HT = int(input(\"Prix_HT\"))\n",
    " if Prix_HT != 0:\n",
    "    print(Prix_HT)\n",
    "    Prix_TTC = Prix_HT + 20/100*Prix_HT\n",
    "    print(\"Prix_TTC\")\n",
    " else :\n",
    "  break"
   ]
  },
  {
   "cell_type": "code",
   "execution_count": null,
   "metadata": {},
   "outputs": [],
   "source": []
  },
  {
   "cell_type": "code",
   "execution_count": 5,
   "metadata": {},
   "outputs": [
    {
     "name": "stdin",
     "output_type": "stream",
     "text": [
      "taper une liste 123\n"
     ]
    },
    {
     "name": "stdout",
     "output_type": "stream",
     "text": [
      "['1', '2', '3']\n",
      "['3', '2', '1']\n",
      "ce n'est pas un palindrome\n"
     ]
    }
   ],
   "source": [
    "liste_1=list( input(\"taper une liste\"))\n",
    "print(liste_1)\n",
    "liste_2=liste_1[::-1]\n",
    "print(liste_2)\n",
    "if liste_1==liste_2:\n",
    "    print(\"c'est un palindrome\")\n",
    "else:\n",
    "    print(\"ce n'est pas un palindrome\")"
   ]
  },
  {
   "cell_type": "code",
   "execution_count": null,
   "metadata": {},
   "outputs": [],
   "source": []
  },
  {
   "cell_type": "code",
   "execution_count": 6,
   "metadata": {},
   "outputs": [
    {
     "name": "stdout",
     "output_type": "stream",
     "text": [
      "2 Lucas\n",
      "Samy\n"
     ]
    }
   ],
   "source": [
    "import random\n",
    "list = [\"Samy\", \"Luca\", \"Wilfried\", \"Lucas\"]\n",
    "random.shuffle(list)\n",
    "print(list.index(\"Luca\"),(\"Lucas\"))\n",
    "print(list[3])"
   ]
  }
 ],
 "metadata": {
  "kernelspec": {
   "display_name": "Python 3",
   "language": "python",
   "name": "python3"
  },
  "language_info": {
   "codemirror_mode": {
    "name": "ipython",
    "version": 3
   },
   "file_extension": ".py",
   "mimetype": "text/x-python",
   "name": "python",
   "nbconvert_exporter": "python",
   "pygments_lexer": "ipython3",
   "version": "3.7.6"
  }
 },
 "nbformat": 4,
 "nbformat_minor": 4
}
