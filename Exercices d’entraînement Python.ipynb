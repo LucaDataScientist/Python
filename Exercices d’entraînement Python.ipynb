{
 "cells": [
  {
   "cell_type": "code",
   "execution_count": 4,
   "metadata": {},
   "outputs": [
    {
     "name": "stdout",
     "output_type": "stream",
     "text": [
      "bonjour\n",
      "ruojnob"
     ]
    }
   ],
   "source": [
    "# 1. Afficher un mot à l’envers\n",
    "\n",
    "mot = input()\n",
    "\n",
    "for i in range(len(mot)):\n",
    "    index = len(mot) -i-1\n",
    "    index = -1-i #calcul équivalent\n",
    "    print(mot[index], end=\"\")"
   ]
  },
  {
   "cell_type": "code",
   "execution_count": 3,
   "metadata": {},
   "outputs": [
    {
     "name": "stdout",
     "output_type": "stream",
     "text": [
      "Entrez une valeur pour x :\n",
      "1\n",
      "f(x)= 9.0\n",
      "Entrez une valeur pour x :\n",
      "3\n",
      "f(x)= 43.0\n",
      "Entrez une valeur pour x :\n",
      "5\n",
      "f(x)= 101.0\n"
     ]
    }
   ],
   "source": [
    "# 2. Calculer la valeur du polynôme 3x²+ 5x + 1 \n",
    "\n",
    "for k in range(3):\n",
    "    print(\"Entrez une valeur pour x :\")\n",
    "    x = float(input())\n",
    "    valeur = 3*x*x+5*x+1\n",
    "    print(\"f(x)=\", valeur)"
   ]
  },
  {
   "cell_type": "code",
   "execution_count": 1,
   "metadata": {},
   "outputs": [
    {
     "name": "stdout",
     "output_type": "stream",
     "text": [
      "Entrer le nombre n :\n",
      "1\n",
      "somme : 1\n",
      "somme : 2\n"
     ]
    }
   ],
   "source": [
    "# 3. Additionner les n premiers entiers \n",
    "\n",
    "print(\"Entrer le nombre n :\")\n",
    "n = int(input())\n",
    "somme = 0\n",
    "\n",
    "for i in range(n+1):\n",
    "    somme = somme + 1\n",
    "    print('somme :',somme)"
   ]
  },
  {
   "cell_type": "code",
   "execution_count": 25,
   "metadata": {},
   "outputs": [
    {
     "name": "stdout",
     "output_type": "stream",
     "text": [
      "XX01234567890123456789012345678901234567890123456789\n",
      "0.50000000000000000000000000000000000000000000000000\n",
      "0.25000000000000000000000000000000000000000000000000\n",
      "0.12500000000000000000000000000000000000000000000000\n",
      "0.06250000000000000000000000000000000000000000000000\n",
      "0.03125000000000000000000000000000000000000000000000\n",
      "0.01562500000000000000000000000000000000000000000000\n",
      "0.00781250000000000000000000000000000000000000000000\n",
      "0.00390625000000000000000000000000000000000000000000\n",
      "0.00195312500000000000000000000000000000000000000000\n",
      "0.00097656250000000000000000000000000000000000000000\n",
      "0.00048828125000000000000000000000000000000000000000\n",
      "0.00024414062500000000000000000000000000000000000000\n",
      "0.00012207031250000000000000000000000000000000000000\n",
      "0.00006103515625000000000000000000000000000000000000\n",
      "0.00003051757812500000000000000000000000000000000000\n",
      "0.00001525878906250000000000000000000000000000000000\n",
      "0.00000762939453125000000000000000000000000000000000\n",
      "0.00000381469726562500000000000000000000000000000000\n",
      "0.00000190734863281250000000000000000000000000000000\n",
      "0.00000095367431640625000000000000000000000000000000\n",
      "0.00000047683715820312500000000000000000000000000000\n",
      "0.00000023841857910156250000000000000000000000000000\n",
      "0.00000011920928955078125000000000000000000000000000\n",
      "0.00000005960464477539062500000000000000000000000000\n",
      "0.00000002980232238769531250000000000000000000000000\n",
      "0.00000001490116119384765625000000000000000000000000\n",
      "0.00000000745058059692382812500000000000000000000000\n",
      "0.00000000372529029846191406250000000000000000000000\n",
      "0.00000000186264514923095703125000000000000000000000\n",
      "0.00000000093132257461547851562500000000000000000000\n",
      "0.00000000046566128730773925781250000000000000000000\n",
      "0.00000000023283064365386962890625000000000000000000\n",
      "0.00000000011641532182693481445312500000000000000000\n",
      "0.00000000005820766091346740722656250000000000000000\n",
      "0.00000000002910383045673370361328125000000000000000\n",
      "0.00000000001455191522836685180664062500000000000000\n",
      "0.00000000000727595761418342590332031250000000000000\n",
      "0.00000000000363797880709171295166015625000000000000\n",
      "0.00000000000181898940354585647583007812500000000000\n",
      "0.00000000000090949470177292823791503906250000000000\n",
      "0.00000000000045474735088646411895751953125000000000\n",
      "0.00000000000022737367544323205947875976562500000000\n",
      "0.00000000000011368683772161602973937988281250000000\n",
      "0.00000000000005684341886080801486968994140625000000\n",
      "0.00000000000002842170943040400743484497070312500000\n",
      "0.00000000000001421085471520200371742248535156250000\n",
      "0.00000000000000710542735760100185871124267578125000\n",
      "0.00000000000000355271367880050092935562133789062500\n",
      "0.00000000000000177635683940025046467781066894531250\n",
      "0.00000000000000088817841970012523233890533447265625\n"
     ]
    }
   ],
   "source": [
    "# 4. L’infiniment petit\n",
    "\n",
    "val = 1\n",
    "print('XX' + '0123456789' * 5)\n",
    "for i in range(50):\n",
    "    val = val/2\n",
    "    print(\"{0:51.50f}\".format(val))"
   ]
  },
  {
   "cell_type": "code",
   "execution_count": 2,
   "metadata": {},
   "outputs": [
    {
     "name": "stdout",
     "output_type": "stream",
     "text": [
      "Réponse :  18\n"
     ]
    }
   ],
   "source": [
    "# 5. Compter les nombres à deux chiffres ayant le chiffre 7 \n",
    "\n",
    "nb = 0\n",
    "\n",
    "for i in range(10,99):\n",
    "    dizaine = i // 10\n",
    "    unite = i - dizaine * 10\n",
    "    if dizaine == 7 or unite == 7:\n",
    "        nb = nb + 1\n",
    "    \n",
    "print(\"Réponse : \", nb)"
   ]
  },
  {
   "cell_type": "code",
   "execution_count": 3,
   "metadata": {},
   "outputs": [
    {
     "name": "stdout",
     "output_type": "stream",
     "text": [
      "Entrez un mot\n",
      "bonjour\n",
      "Nombre de consonnes : 4\n"
     ]
    }
   ],
   "source": [
    "# 6. Compter les consonnes dans un mot \n",
    "\n",
    "print(\"Entrez un mot\")\n",
    "\n",
    "mot = input()\n",
    "mot = mot.upper()\n",
    "nb_voyelles = 0\n",
    "nb_lettres = len(mot)\n",
    "\n",
    "for i in range(nb_lettres):\n",
    "    lettre = mot[i]\n",
    "    if lettre == 'A' or lettre == \"E\" or lettre == \"I\" or lettre == \"O\" or lettre == \"U\" or lettre == \"Y\":\n",
    "        nb_voyelles = nb_voyelles + 1\n",
    "        \n",
    "nb_consonnes = nb_lettres - nb_voyelles\n",
    "\n",
    "print(\"Nombre de consonnes :\", nb_consonnes)"
   ]
  },
  {
   "cell_type": "code",
   "execution_count": 1,
   "metadata": {},
   "outputs": [
    {
     "name": "stdout",
     "output_type": "stream",
     "text": [
      "Entrez le nom à coder: \n",
      "Luca\n",
      "CODE :  OXFD\n",
      "\n",
      "----------\n",
      "Entrez le nom à décoder: \n",
      "oxfd\n",
      "En clair : LUCA\n"
     ]
    }
   ],
   "source": [
    "# 7. Encoder et décrypter un nom \n",
    "\n",
    "print('Entrez le nom à coder: ')\n",
    "\n",
    "nom = input()\n",
    "nom = nom.upper()\n",
    "SECRET = \"\"\n",
    "\n",
    "for i in range (len(nom)):\n",
    "    ascii = ord(nom[i])\n",
    "    code = ascii + 3\n",
    "    if code > ord('Z'):\n",
    "        code -= 26 #CODE = CODE - 26\n",
    "    SECRET += chr(code) # SECRET = SECRET + CHR(CODE)\n",
    "\n",
    "print(\"CODE : \", SECRET)\n",
    "print(\"\\n----------\")\n",
    "\n",
    "print(\"Entrez le nom à décoder: \")\n",
    "\n",
    "nom = input()\n",
    "nom = nom.upper()\n",
    "DECODE = \"\"\n",
    "\n",
    "for i in range (len(nom)):\n",
    "    ascii = ord(nom[i])\n",
    "    code = ascii - 3\n",
    "    if code < ord('A'):\n",
    "        code += 26\n",
    "    DECODE += chr(code)\n",
    "\n",
    "print('En clair :', DECODE)"
   ]
  },
  {
   "cell_type": "code",
   "execution_count": 3,
   "metadata": {},
   "outputs": [
    {
     "name": "stdout",
     "output_type": "stream",
     "text": [
      "<head><title>Mon Titre</title></head><body>Texte sur la page</body></html>\n",
      "head\n",
      "title\n",
      "/title\n",
      "/head\n",
      "body\n",
      "/body\n",
      "/html\n"
     ]
    }
   ],
   "source": [
    "# 8. Afficher les balises d’une page HTML\n",
    "\n",
    "codepageweb = '<head><title>Mon Titre</title></head><body>Texte sur la page</body></html>'\n",
    "print(codepageweb)\n",
    "\n",
    "for i in range(len(codepageweb)):\n",
    "    if codepageweb[i] == '<':\n",
    "        ifin = codepageweb.find('>', i)\n",
    "        print(codepageweb[i+1:ifin])"
   ]
  },
  {
   "cell_type": "code",
   "execution_count": 14,
   "metadata": {},
   "outputs": [
    {
     "name": "stdout",
     "output_type": "stream",
     "text": [
      "Entrez le nombre de jours dans le mois :\n",
      "30\n",
      "Entrez le premier jour du mois : 1 pour lundi, 7 pour dimanche\n",
      "6\n",
      "LUN MAR MER JEU VEN SAM DIM\n",
      "  1   2 \n",
      "  3   4   5   6   7   8   9 \n",
      " 10  11  12  13  14  15  16 \n",
      " 17  18  19  20  21  22  23 \n",
      " 24  25  26  27  28  29  30 \n"
     ]
    }
   ],
   "source": [
    "# 9. Afficher le calendrier du mois \n",
    "\n",
    "print('Entrez le nombre de jours dans le mois :')\n",
    "nbjours = int(input())\n",
    "\n",
    "print('Entrez le premier jour du mois : 1 pour lundi, 7 pour dimanche')\n",
    "coldepart = int(input())\n",
    "\n",
    "print('LUN MAR MER JEU VEN SAM DIM')\n",
    "\n",
    "nbcolvides = coldepart - 1\n",
    "largeurcol = 4\n",
    "print('' * largeurcol * nbcolvides, end='')\n",
    "colcourante = coldepart #1 colonne de lundi, 7 colonne de dimanche\n",
    "\n",
    "for i in range (nbjours):\n",
    "    print(\"{0:3d} \".format(i+1), end='')\n",
    "    colcourante = colcourante + 1\n",
    "    if colcourante == 8:\n",
    "        print() # une nouvele ligne commence\n",
    "        colcourante = 1"
   ]
  },
  {
   "cell_type": "code",
   "execution_count": 1,
   "metadata": {},
   "outputs": [
    {
     "name": "stdout",
     "output_type": "stream",
     "text": [
      "Entrez le nombre de tirages: 6\n",
      "Pour un lancé de 100 pièces, la probabilité en pourcentage qu'une pièce tombe sur Face est de: \n"
     ]
    },
    {
     "data": {
      "text/plain": [
       "56"
      ]
     },
     "execution_count": 1,
     "metadata": {},
     "output_type": "execute_result"
    }
   ],
   "source": [
    "# 10. Statistiques avec pile ou face \n",
    "\n",
    "import random\n",
    "random.randint(0,1)\n",
    "\n",
    "nombreDeTirages = int(input(\"Entrez le nombre de tirages: \"))\n",
    "\n",
    "def lancerUnePiece(nombreDeTirages):\n",
    "    PileFace = random.randint(0,1)\n",
    "    return PileFace\n",
    "\n",
    "def lancerDePieces(nbPieces,nombreDeTirages):\n",
    "    listeDesPieces = []\n",
    "    for i in range(nbPieces):\n",
    "        PileFace = lancerUnePiece(nombreDeTirages)\n",
    "        listeDesPieces.append(PileFace)\n",
    "    return listeDesPieces\n",
    "\n",
    "def sommeDesPieces(nbPieces,nombreDeTirages):\n",
    "    S = 0\n",
    "    for i in range(nbPieces):\n",
    "        PileFace = lancerUnePiece(nombreDeTirages)\n",
    "        S = S + PileFace\n",
    "    return S\n",
    "\n",
    "lancerUnePiece(nombreDeTirages)\n",
    "lancerDePieces(100, nombreDeTirages)\n",
    "print(\"Pour un lancé de 100 pièces, la probabilité en pourcentage qu'une pièce tombe sur Face est de: \")\n",
    "sommeDesPieces(100, nombreDeTirages)"
   ]
  },
  {
   "cell_type": "code",
   "execution_count": null,
   "metadata": {},
   "outputs": [],
   "source": []
  }
 ],
 "metadata": {
  "kernelspec": {
   "display_name": "Python 3",
   "language": "python",
   "name": "python3"
  },
  "language_info": {
   "codemirror_mode": {
    "name": "ipython",
    "version": 3
   },
   "file_extension": ".py",
   "mimetype": "text/x-python",
   "name": "python",
   "nbconvert_exporter": "python",
   "pygments_lexer": "ipython3",
   "version": "3.7.6"
  }
 },
 "nbformat": 4,
 "nbformat_minor": 4
}
