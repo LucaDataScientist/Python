{
 "cells": [
  {
   "cell_type": "code",
   "execution_count": 75,
   "metadata": {},
   "outputs": [
    {
     "data": {
      "text/plain": [
       "105"
      ]
     },
     "execution_count": 75,
     "metadata": {},
     "output_type": "execute_result"
    }
   ],
   "source": [
    "def polynome (x):\n",
    "    x2 = x*x\n",
    "    return x2 + x - 5\n",
    "\n",
    "polynome(10)"
   ]
  },
  {
   "cell_type": "code",
   "execution_count": 79,
   "metadata": {},
   "outputs": [
    {
     "data": {
      "text/plain": [
       "(2.9999999999999996, 9.965784284662087)"
      ]
     },
     "execution_count": 79,
     "metadata": {},
     "output_type": "execute_result"
    }
   ],
   "source": [
    "from math import log\n",
    "def log_base (x, base = 10):\n",
    "    return log(x) / log(base)\n",
    "\n",
    "y = log_base(1000)\n",
    "z = log_base(1000,2)\n",
    "y,z"
   ]
  },
  {
   "cell_type": "code",
   "execution_count": 80,
   "metadata": {
    "scrolled": true
   },
   "outputs": [
    {
     "name": "stdout",
     "output_type": "stream",
     "text": [
      "9.965784284662087\n"
     ]
    }
   ],
   "source": [
    "def calcul(x):\n",
    "    y = x**2\n",
    "    z = x + y\n",
    "    return z\n",
    "print(z)"
   ]
  },
  {
   "cell_type": "code",
   "execution_count": 81,
   "metadata": {},
   "outputs": [
    {
     "name": "stdout",
     "output_type": "stream",
     "text": [
      "Interieur de test:  3\n",
      "Après test:  3\n"
     ]
    }
   ],
   "source": [
    "a = 2\n",
    "\n",
    "def test():\n",
    "    global a\n",
    "    a = 3\n",
    "    return print('Interieur de test: ', a)\n",
    "\n",
    "test()\n",
    "print('Après test: ', a)"
   ]
  },
  {
   "cell_type": "code",
   "execution_count": 82,
   "metadata": {},
   "outputs": [
    {
     "name": "stdout",
     "output_type": "stream",
     "text": [
      "Je m'appelle pour x= 10\n",
      "Je m'appelle pour x= 5.0\n",
      "Je m'appelle pour x= 2.5\n",
      "Je ne m'appelle pas pour x= 1.25\n"
     ]
    },
    {
     "data": {
      "text/plain": [
       "1"
      ]
     },
     "execution_count": 82,
     "metadata": {},
     "output_type": "execute_result"
    }
   ],
   "source": [
    "def recursive(x):\n",
    "    if x / 2 < 1:\n",
    "        print(\"Je ne m'appelle pas pour x=\", x)\n",
    "        return 1\n",
    "   \n",
    "    else:\n",
    "        print(\"Je m'appelle pour x=\", x)\n",
    "        return recursive (x/2)\n",
    "        \n",
    "recursive(10)"
   ]
  },
  {
   "cell_type": "code",
   "execution_count": 83,
   "metadata": {},
   "outputs": [
    {
     "name": "stdout",
     "output_type": "stream",
     "text": [
      "D u   p\n",
      "['Du p', 'sé faisons table r', 'e']\n",
      "['Du', 'passé', 'faisons', 'table', 'rase']\n"
     ]
    }
   ],
   "source": [
    "s1 = 'Du passé faisons table rase'\n",
    "l1 = [i for i in s1]\n",
    "l2 = s1. split(\"as\")\n",
    "l3 = s1.split()\n",
    "\n",
    "print(l1[0], l1[1], l1[2], l1[3])\n",
    "print(l2)\n",
    "print(l3)"
   ]
  },
  {
   "cell_type": "code",
   "execution_count": 84,
   "metadata": {},
   "outputs": [
    {
     "name": "stdout",
     "output_type": "stream",
     "text": [
      "HELLO WORLD\n",
      "Du passé faisons table rase\n"
     ]
    }
   ],
   "source": [
    "l1 = ['H', 'E', 'L', 'L', 'O', ' ', 'W', 'O', 'R', 'L', 'D']\n",
    "l2 = ['Du', 'passé', 'faisons', 'table', 'rase']\n",
    "s1 = \"\".join(l1)\n",
    "s2 = \" \".join(l2)\n",
    "\n",
    "print(s1)\n",
    "print(s2)"
   ]
  },
  {
   "cell_type": "code",
   "execution_count": 85,
   "metadata": {},
   "outputs": [
    {
     "name": "stdout",
     "output_type": "stream",
     "text": [
      "faisons TABLE\n"
     ]
    }
   ],
   "source": [
    "s1 = 'Faisons table rase'\n",
    "print(s2)"
   ]
  },
  {
   "cell_type": "code",
   "execution_count": 86,
   "metadata": {},
   "outputs": [
    {
     "name": "stdout",
     "output_type": "stream",
     "text": [
      "3\n",
      "35\n",
      "-1\n",
      "\n",
      "3\n",
      "35\n",
      "-1\n"
     ]
    }
   ],
   "source": [
    "s1 = 'Ce texte contient deux fois le mot texte'\n",
    "print(s1.find('texte', 0))\n",
    "\n",
    "print(s1.find('texte', 4))\n",
    "\n",
    "print(s1.find('texte', 36))\n",
    "print('')\n",
    "\n",
    "s1 = 'Ce texte contient deux fois le mot texte'\n",
    "max = 0\n",
    "while max > - 1:\n",
    "    max = s1.find('texte', max+1)\n",
    "    print(max)"
   ]
  },
  {
   "cell_type": "code",
   "execution_count": 87,
   "metadata": {},
   "outputs": [
    {
     "name": "stdout",
     "output_type": "stream",
     "text": [
      "Le prix est de $2,15 \n"
     ]
    }
   ],
   "source": [
    "s1 = 'Le prix est de deux euros'\n",
    "if 'euros' in s1:\n",
    "    i = s1.index('euros')\n",
    "    s2 = s1[:i-5] + '$' + s1[i-5:i]\n",
    "    j = s2.find('deux')\n",
    "    s3 = s2[:j] + '2,15' + s2[j+4:]\n",
    "\n",
    "print(s3)"
   ]
  },
  {
   "cell_type": "code",
   "execution_count": 88,
   "metadata": {},
   "outputs": [
    {
     "name": "stdout",
     "output_type": "stream",
     "text": [
      "Le prix est de $2.15\n"
     ]
    }
   ],
   "source": [
    "s1 = 'Le prix est de deux euros'\n",
    "s2 = s1.replace('deux euros', '$2.15')\n",
    "print(s2)"
   ]
  },
  {
   "cell_type": "code",
   "execution_count": 89,
   "metadata": {},
   "outputs": [
    {
     "name": "stdout",
     "output_type": "stream",
     "text": [
      "nombre\n",
      "mot\n",
      "?\n"
     ]
    }
   ],
   "source": [
    "s = '300 seulement ?'\n",
    "l = s.split()\n",
    "\n",
    "for mot in l:\n",
    "    if mot.isalpha():\n",
    "        print('mot')\n",
    "    if mot.isnumeric():\n",
    "        print('nombre')\n",
    "    if not mot.isalnum():\n",
    "        print('?')"
   ]
  },
  {
   "cell_type": "code",
   "execution_count": 94,
   "metadata": {},
   "outputs": [
    {
     "name": "stdout",
     "output_type": "stream",
     "text": [
      "['Le ']\n",
      "['PIB', 'Argentine', 'baisse', 'depuis']\n"
     ]
    }
   ],
   "source": [
    "from re import findall\n",
    "\n",
    "s = \"Le PIB de l'Argentine baisse depuis 3 ans\"\n",
    "l1 = findall ('[A-Z][a-z] +', s)\n",
    "l2 = findall ('[a-zA-Z]*[iI][a-zA-Z]*', s)\n",
    "print(l1)\n",
    "print(l2)"
   ]
  },
  {
   "cell_type": "code",
   "execution_count": 92,
   "metadata": {},
   "outputs": [
    {
     "name": "stdout",
     "output_type": "stream",
     "text": [
      "['0678828383', '09.34.67.12.11', '03 11 23 20 38', '03.11 23 2038']\n"
     ]
    }
   ],
   "source": [
    "from re import findall\n",
    "\n",
    "motif = '0[1-9](?:[\\s\\.]?[0-9]{2}){4}'\n",
    "n1 = \"0678828383\"\n",
    "n2 = \"09.34.67.12.11\"\n",
    "n3 = \"03 11 23 20 38,\"\n",
    "n4 = \"03 11 23 20,\"\n",
    "n5 = \"03.11 23 2038,\"\n",
    "n6 = \"03-23-20-20-38\"\n",
    "s = n1+n2+n3+n4+n5+n6\n",
    "print(findall(motif, s))"
   ]
  },
  {
   "cell_type": "code",
   "execution_count": 103,
   "metadata": {},
   "outputs": [
    {
     "name": "stdout",
     "output_type": "stream",
     "text": [
      "Un texte HTML<strong/>avec des baliseset meme <script type=\"text/javascript\">var i = 5;</script> du javascript dedans.\n"
     ]
    }
   ],
   "source": [
    "from re import sub\n",
    "\n",
    "s = 'Un texte <strong>HTML<strong/>avec des balises'\n",
    "s += 'et meme <script type=\"text/javascript\">'\n",
    "s += 'var i = 5;</script> du javascript dedans.'\n",
    "s1 = sub('<[a-z]*>', '', s)\n",
    "print(s1)"
   ]
  },
  {
   "cell_type": "code",
   "execution_count": 106,
   "metadata": {},
   "outputs": [
    {
     "name": "stdout",
     "output_type": "stream",
     "text": [
      "Un texte  du javascript dedans.\n",
      "Un texte HTML avec des balises et meme var i = 5; du javascript dedans.\n",
      "Un texte HTML avec des balises et meme var i = 5; du javascript dedans.\n"
     ]
    }
   ],
   "source": [
    "from re import sub\n",
    "\n",
    "s = 'Un texte <strong>HTML <strong/>avec des balises '\n",
    "s += 'et meme <script type=\"text/javascript\">'\n",
    "s += 'var i = 5;</script> du javascript dedans.'\n",
    "s1 = sub('<.*>', '', s)\n",
    "s2 = sub('<[a-z\\\\/\"=\\s]*>', \"\", s)\n",
    "s3 = sub('<[^>]*>', \"\", s)\n",
    "print(s1)\n",
    "print(s2)\n",
    "print(s3)"
   ]
  }
 ],
 "metadata": {
  "kernelspec": {
   "display_name": "Python 3",
   "language": "python",
   "name": "python3"
  },
  "language_info": {
   "codemirror_mode": {
    "name": "ipython",
    "version": 3
   },
   "file_extension": ".py",
   "mimetype": "text/x-python",
   "name": "python",
   "nbconvert_exporter": "python",
   "pygments_lexer": "ipython3",
   "version": "3.7.6"
  }
 },
 "nbformat": 4,
 "nbformat_minor": 4
}
