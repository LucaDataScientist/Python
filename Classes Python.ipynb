{
 "cells": [
  {
   "cell_type": "code",
   "execution_count": 40,
   "metadata": {},
   "outputs": [],
   "source": [
    "class superstring :\n",
    "    def __init__(self, chaine):\n",
    "        self.ch = chaine\n",
    "    def ajoute(self, char):\n",
    "        self.ch += char\n",
    "    def insert(self, char, i):\n",
    "        self.ch = self.ch[:i] + char + self.ch[i:]\n",
    "    def upper(self):\n",
    "        self.ch = self.ch.upper()\n",
    "    def __str__(self):\n",
    "        return self.ch"
   ]
  },
  {
   "cell_type": "code",
   "execution_count": 42,
   "metadata": {},
   "outputs": [
    {
     "name": "stdout",
     "output_type": "stream",
     "text": [
      "ECOUTEZ BIEN C'EST TRÈS IMPORTANT CE QUE JE DIS !\n"
     ]
    }
   ],
   "source": [
    "s1 = superstring(\"Ecoutez bien c'est important\")\n",
    "s1.ajoute(\" ce que je dis !\")\n",
    "s1.insert(\" très\", 18)\n",
    "s1.upper()\n",
    "print(s1)"
   ]
  },
  {
   "cell_type": "code",
   "execution_count": 3,
   "metadata": {},
   "outputs": [],
   "source": [
    "class superstring:\n",
    "    def __init__(self, chaine):\n",
    "        self.ch = chaine\n",
    "    def __str__(self):\n",
    "        str = \" type : superstring, content : ECOUTEZ BIEN C'EST TRÈS IMPORTANT CE QUE JE DIS ! \"+\"\\n\"\n",
    "        self.ch = str+self.ch\n",
    "        return self.ch\n",
    "    def ajoute(self, char):\n",
    "        self.ch += char\n",
    "    def insert(self, char, i):\n",
    "        self.ch = self.ch[:i] + char + self.ch[i:]\n",
    "    def upper(self):\n",
    "        self.ch = self.ch.upper()\n",
    "    def capsdown(self):\n",
    "        self.ch = self.ch.lower()\n",
    "    def tri(self):\n",
    "        self.ch = self.ch.split()\n",
    "        self.ch.sort()\n",
    "        self.ch = ' '.join(self.ch)"
   ]
  },
  {
   "cell_type": "code",
   "execution_count": 2,
   "metadata": {},
   "outputs": [
    {
     "name": "stdout",
     "output_type": "stream",
     "text": [
      " type : superstring, content : ECOUTEZ BIEN C'EST TRÈS IMPORTANT CE QUE JE DIS ! \n",
      "! bien c'est ce dis ecoutez important je que très\n"
     ]
    }
   ],
   "source": [
    "s1 = superstring(\"Ecoutez bien c'est important\")\n",
    "s1.ajoute(\" ce que je dis !\")\n",
    "s1.insert(\" très\", 18)\n",
    "s1.capsdown()\n",
    "s1.tri()\n",
    "print(s1)"
   ]
  },
  {
   "cell_type": "code",
   "execution_count": 75,
   "metadata": {},
   "outputs": [],
   "source": [
    "class formulaire:\n",
    "    def __init__(self, nom, prenom, anneeNaissance):\n",
    "        self.nom = nom.upper()\n",
    "        self.prenom = prenom.upper()\n",
    "        self.anneeNaissance = anneeNaissance\n",
    "    def age(self):\n",
    "        return 2020 - self.anneeNaissance\n",
    "    def majeur(self):\n",
    "        return self.age() >= 18\n",
    "    def memeFamille(self, formulaire):\n",
    "        return self.nom == formulaire.nom\n",
    "    \n",
    "    def equals(self, formulaire):\n",
    "        return all([self.nom == formulaire.nom,\n",
    "                   self.prenom == formulaire.prenom,\n",
    "                   self.anneeNaissance == formulaire.anneeNaissance])\n",
    "    def __str__(self):\n",
    "        s = self.nom + \", \" + self.prenom + \", \"\n",
    "        return s+ str(self.anneeNaissance)"
   ]
  },
  {
   "cell_type": "code",
   "execution_count": 77,
   "metadata": {},
   "outputs": [
    {
     "name": "stdout",
     "output_type": "stream",
     "text": [
      "DOE, ALICE, 2000\n",
      "GROU, LIONEL, 2004\n",
      "DOE, JOHN, 2005\n",
      "False\n",
      "True\n",
      "True\n"
     ]
    }
   ],
   "source": [
    "jd = formulaire('Doe', 'John', 2005)\n",
    "ad = formulaire('doe', 'Alice', 2000)\n",
    "bt = formulaire('GROU', 'Lionel', 2004)\n",
    "\n",
    "liste = [jd, ad, bt]\n",
    "liste.sort(key = lambda x:x.anneeNaissance)\n",
    "for i in liste:\n",
    "    print(i)\n",
    "\n",
    "print(jd.majeur())\n",
    "print(ad.majeur())\n",
    "print(jd.memeFamille(ad))"
   ]
  },
  {
   "cell_type": "code",
   "execution_count": 51,
   "metadata": {},
   "outputs": [],
   "source": [
    "from random import randrange\n",
    "\n",
    "# On initialise toutes les valeurs et couleurs que peuvent prendre les cartes\n",
    "valeurs = [i for i in range(1,11)]\n",
    "couleurs = [i for i in range(1,5)]\n",
    "\n",
    "# On choisit le nombre de tout que va durée la partie et on initialise le score à 0\n",
    "nbTours = 7\n",
    "score = 0\n",
    "\n",
    "# Enfin on crée une liste de tuple pour représenter la pacquet de cartes\n",
    "paquet = [(v, c) for v in  valeurs for c in couleurs]\n",
    "main1, main2 = [], []"
   ]
  },
  {
   "cell_type": "code",
   "execution_count": 52,
   "metadata": {},
   "outputs": [],
   "source": [
    "for i in range(nbTours):\n",
    "    # Le joueur 1 tire une carte aléatoirement dans le paquet\n",
    "    x = paquet[randrange(len(paquet))]\n",
    "    # La carte est ajouté à la main du joueur 1\n",
    "    main1.append(x)\n",
    "    # La carte tiré  est supprimé du paquet\n",
    "    paquet.remove(x)\n",
    "    # Idem pour le joueur 2\n",
    "    y = paquet[randrange(len(paquet))]\n",
    "    main2.append(y)\n",
    "    paquet.remove(y)"
   ]
  },
  {
   "cell_type": "code",
   "execution_count": 72,
   "metadata": {},
   "outputs": [
    {
     "name": "stdout",
     "output_type": "stream",
     "text": [
      "Vainqueur : joueur 2\n"
     ]
    }
   ],
   "source": [
    "for i in range(nbTours):\n",
    "    if main1[i][0] > main2[i][0] or (main1[i][0] == main2[i][0] and main1[i][1] > main2[i][1]):\n",
    "            score += 1\n",
    "    else :\n",
    "            score -= 1\n",
    "\n",
    "print(\"Vainqueur : \" + (\"joueur 1\" if score > 0 else \"joueur 2\"))"
   ]
  },
  {
   "cell_type": "code",
   "execution_count": null,
   "metadata": {},
   "outputs": [],
   "source": []
  }
 ],
 "metadata": {
  "kernelspec": {
   "display_name": "Python 3",
   "language": "python",
   "name": "python3"
  },
  "language_info": {
   "codemirror_mode": {
    "name": "ipython",
    "version": 3
   },
   "file_extension": ".py",
   "mimetype": "text/x-python",
   "name": "python",
   "nbconvert_exporter": "python",
   "pygments_lexer": "ipython3",
   "version": "3.7.6"
  }
 },
 "nbformat": 4,
 "nbformat_minor": 4
}
